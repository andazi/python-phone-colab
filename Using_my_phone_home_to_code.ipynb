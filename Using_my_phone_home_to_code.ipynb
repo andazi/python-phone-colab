{
  "cells": [
    {
      "cell_type": "markdown",
      "metadata": {
        "id": "view-in-github",
        "colab_type": "text"
      },
      "source": [
        "<a href=\"https://colab.research.google.com/github/andazi/python-phone-colab/blob/main/Using_my_phone_home_to_code.ipynb\" target=\"_parent\"><img src=\"https://colab.research.google.com/assets/colab-badge.svg\" alt=\"Open In Colab\"/></a>"
      ]
    },
    {
      "cell_type": "code",
      "execution_count": null,
      "metadata": {
        "colab": {
          "base_uri": "https://localhost:8080/"
        },
        "id": "aTKttXPRaKp3",
        "outputId": "b01db499-41c6-4323-b238-e1ee2738f6a0"
      },
      "outputs": [
        {
          "output_type": "stream",
          "name": "stdout",
          "text": [
            "First Trial\n"
          ]
        }
      ],
      "source": [
        "print(\"First Trial\")"
      ]
    },
    {
      "cell_type": "code",
      "source": [
        "import random"
      ],
      "metadata": {
        "id": "SMbFyQGKDnSk"
      },
      "execution_count": 25,
      "outputs": []
    },
    {
      "cell_type": "code",
      "source": [
        "\n",
        "is_gameover = False\n",
        "game_round = 0\n",
        "player = 0\n",
        "computer = 0\n",
        "\n",
        "while not is_gameover:\n",
        "\n",
        "    player_guess = int(input(\"Guess a number between 0 and 5: \"))\n",
        "    computer_guess = random.randint(1, 5)\n",
        "    if player_guess == computer_guess:\n",
        "        print(\"you won\")\n",
        "        player += 1\n",
        "    else:\n",
        "        print(\"you lose, correct guess is:\", computer_guess)\n",
        "        computer += 1\n",
        "    game_round += 1\n",
        "    if game_round == 3:\n",
        "        print('-' * 20)\n",
        "        print(f\"player score: {player}\")\n",
        "        print(f\"computer score:{computer}\")\n",
        "        is_gameover = True"
      ],
      "metadata": {
        "colab": {
          "base_uri": "https://localhost:8080/"
        },
        "id": "blU53FEzhHrP",
        "outputId": "04dd916a-2dba-4064-90f3-fdad46172107"
      },
      "execution_count": null,
      "outputs": [
        {
          "output_type": "stream",
          "name": "stdout",
          "text": [
            "Guess a number between 0 and 5: 4\n",
            "you lose, correct guess is: 3\n",
            "Guess a number between 0 and 5: 3\n",
            "you lose, correct guess is: 4\n",
            "Guess a number between 0 and 5: 5\n",
            "you lose, correct guess is: 2\n",
            "--------------------\n",
            "player score: 0\n",
            "computer score:3\n"
          ]
        }
      ]
    },
    {
      "cell_type": "code",
      "source": [
        "import random\n",
        "\n",
        "def coin_flip(num_of_flips):\n",
        "    list_flips = ['H' if random.randint(0, 1) == 1 else 'T' for i in range(num_of_flips)]\n",
        "    return list_flips"
      ],
      "metadata": {
        "id": "KyZ2MV_cmDHy"
      },
      "execution_count": null,
      "outputs": []
    },
    {
      "cell_type": "code",
      "source": [
        "coin_flip(10)"
      ],
      "metadata": {
        "colab": {
          "base_uri": "https://localhost:8080/"
        },
        "id": "f9HkcaN0ypje",
        "outputId": "90d9d6a7-0604-4690-9de0-74f9693c75c6"
      },
      "execution_count": null,
      "outputs": [
        {
          "output_type": "execute_result",
          "data": {
            "text/plain": [
              "['T', 'T', 'T', 'T', 'H', 'H', 'T', 'T', 'T', 'H']"
            ]
          },
          "metadata": {},
          "execution_count": 8
        }
      ]
    },
    {
      "cell_type": "code",
      "source": [
        " def coin_flip_probability(num):\n",
        "    flips = coin_flip(num)\n",
        "    number_of_flips = len(flips)\n",
        "    heads = flips.count('H')\n",
        "    tails = flips.count('T')\n",
        "    head_prob = heads / number_of_flips\n",
        "    tail_prob = tails / number_of_flips\n",
        "    result = {\n",
        "          'number of flips': number_of_flips,\n",
        "          'head' : heads,\n",
        "          'tails' : tails,\n",
        "          'probability of head': head_prob,\n",
        "          'probability of tail': tail_prob\n",
        "             }\n",
        "    return result"
      ],
      "metadata": {
        "id": "jsnSirHtjBlV"
      },
      "execution_count": 7,
      "outputs": []
    },
    {
      "cell_type": "code",
      "source": [
        "\n",
        "def dynamic_prob_dice(n,f=1):\n",
        "\n",
        "    result = []\n",
        "    tries = n\n",
        "\n",
        "    while n > 0:\n",
        "        trial = []\n",
        "        for i in range(tries):\n",
        "            num = random.randint(0,f)\n",
        "            trial.append(num)\n",
        "        result.append(trial)\n",
        "        n -= 1\n",
        "    return result"
      ],
      "metadata": {
        "id": "xG0o5y2rAMvD"
      },
      "execution_count": 39,
      "outputs": []
    },
    {
      "cell_type": "code",
      "source": [
        "dynamic_prob_dice(4,7)"
      ],
      "metadata": {
        "colab": {
          "base_uri": "https://localhost:8080/"
        },
        "id": "VA5ttzZUBJu7",
        "outputId": "4f079531-21a8-4812-f9cc-6f859d6fba04"
      },
      "execution_count": 40,
      "outputs": [
        {
          "output_type": "execute_result",
          "data": {
            "text/plain": [
              "[[2, 7, 2, 1], [3, 5, 4, 3], [4, 5, 0, 3], [7, 2, 6, 4]]"
            ]
          },
          "metadata": {},
          "execution_count": 40
        }
      ]
    },
    {
      "cell_type": "code",
      "source": [
        "dynamic_prob_dice(8)"
      ],
      "metadata": {
        "colab": {
          "base_uri": "https://localhost:8080/"
        },
        "id": "OtnHDgYhEexz",
        "outputId": "a5817c85-918b-4392-cbba-b5d96782cf72"
      },
      "execution_count": 41,
      "outputs": [
        {
          "output_type": "execute_result",
          "data": {
            "text/plain": [
              "[[1, 1, 1, 1, 0, 0, 1, 0],\n",
              " [0, 0, 1, 1, 0, 0, 0, 1],\n",
              " [1, 1, 1, 1, 0, 0, 1, 0],\n",
              " [0, 1, 0, 1, 1, 0, 1, 0],\n",
              " [1, 0, 1, 1, 0, 0, 1, 0],\n",
              " [0, 0, 0, 1, 1, 0, 1, 0],\n",
              " [1, 0, 0, 0, 1, 0, 1, 0],\n",
              " [0, 0, 1, 1, 1, 0, 1, 0]]"
            ]
          },
          "metadata": {},
          "execution_count": 41
        }
      ]
    },
    {
      "cell_type": "code",
      "source": [
        "coin_flip_probability(20)"
      ],
      "metadata": {
        "colab": {
          "base_uri": "https://localhost:8080/"
        },
        "id": "rNlIPhoBnsgD",
        "outputId": "6a50877b-2c62-482a-b148-b78a5d139fd0"
      },
      "execution_count": null,
      "outputs": [
        {
          "output_type": "execute_result",
          "data": {
            "text/plain": [
              "{'number of flips': 20,\n",
              " 'head': 7,\n",
              " 'tails': 13,\n",
              " 'probability of head': 0.35,\n",
              " 'probability of tail': 0.65}"
            ]
          },
          "metadata": {},
          "execution_count": 10
        }
      ]
    },
    {
      "cell_type": "code",
      "source": [
        "coin_flip_probability(200000)"
      ],
      "metadata": {
        "colab": {
          "base_uri": "https://localhost:8080/"
        },
        "id": "EL-MsL4SwQAh",
        "outputId": "fe019261-3b31-497b-f6ad-63df26b35156"
      },
      "execution_count": null,
      "outputs": [
        {
          "output_type": "execute_result",
          "data": {
            "text/plain": [
              "{'number of flips': 200000,\n",
              " 'head': 99982,\n",
              " 'tails': 100018,\n",
              " 'probability of head': 0.49991,\n",
              " 'probability of tail': 0.50009}"
            ]
          },
          "metadata": {},
          "execution_count": 32
        }
      ]
    },
    {
      "cell_type": "code",
      "source": [
        "# removing duplicates\n",
        "\n",
        "my_list = [2,5,7,4,6,7,5,5,7,8,0,9,8]\n",
        "\n",
        "print(my_list)\n",
        "# set datatype removes duplicates and sorts it\n",
        "# we convert list to set then back to list\n",
        "\n",
        "my_set = set(my_list)\n",
        "print(my_set)\n",
        "\n",
        "clean_list = list(my_set)\n",
        "print(clean_list)"
      ],
      "metadata": {
        "id": "ikXJB1mQw3Fo",
        "colab": {
          "base_uri": "https://localhost:8080/"
        },
        "outputId": "270421d0-a2db-481b-accb-776cf57937a8"
      },
      "execution_count": null,
      "outputs": [
        {
          "output_type": "stream",
          "name": "stdout",
          "text": [
            "[2, 5, 7, 4, 6, 7, 5, 5, 7, 8, 0, 9, 8]\n",
            "{0, 2, 4, 5, 6, 7, 8, 9}\n",
            "[0, 2, 4, 5, 6, 7, 8, 9]\n"
          ]
        }
      ]
    },
    {
      "cell_type": "code",
      "source": [
        "new_list = []\n",
        "for i in my_list:\n",
        "    if i not in new_list:\n",
        "        new_list.append(i)\n",
        "\n",
        "print(new_list)\n",
        "# sorted() returns a new list\n",
        "print(sorted(new_list))"
      ],
      "metadata": {
        "colab": {
          "base_uri": "https://localhost:8080/"
        },
        "id": "Qj4u0ood6t5K",
        "outputId": "56fc1075-5237-4afb-b0eb-c836893679e2"
      },
      "execution_count": null,
      "outputs": [
        {
          "output_type": "stream",
          "name": "stdout",
          "text": [
            "[2, 5, 7, 4, 6, 8, 0, 9]\n",
            "[0, 2, 4, 5, 6, 7, 8, 9]\n"
          ]
        }
      ]
    },
    {
      "cell_type": "code",
      "source": [
        "print(list(set(my_list)))"
      ],
      "metadata": {
        "colab": {
          "base_uri": "https://localhost:8080/"
        },
        "id": "AUPPX93f83U8",
        "outputId": "b9853de1-c5c8-4bfd-ed09-333783582353"
      },
      "execution_count": null,
      "outputs": [
        {
          "output_type": "stream",
          "name": "stdout",
          "text": [
            "[0, 2, 4, 5, 6, 7, 8, 9]\n"
          ]
        }
      ]
    },
    {
      "cell_type": "code",
      "source": [
        "# center method\n",
        "\n",
        "letter = '*'\n",
        "\n",
        "tree = letter.center(7, '_')\n",
        "\n",
        "print(tree)"
      ],
      "metadata": {
        "colab": {
          "base_uri": "https://localhost:8080/"
        },
        "id": "r1_rJ9aC-hWq",
        "outputId": "0c7ba943-2eb3-49b1-b3f2-432b5918414f"
      },
      "execution_count": null,
      "outputs": [
        {
          "output_type": "stream",
          "name": "stdout",
          "text": [
            "___*___\n"
          ]
        }
      ]
    },
    {
      "cell_type": "code",
      "source": [
        "# print a pyramid\n",
        "\n",
        "length = 22\n",
        "\n",
        "for i in range(1,length,2):\n",
        "    letter = 'x'\n",
        "    letter *= i\n",
        "    print(letter.center(length))"
      ],
      "metadata": {
        "colab": {
          "base_uri": "https://localhost:8080/"
        },
        "id": "VesejPni_ZDi",
        "outputId": "1a116db2-3a2b-49ed-e98b-277618067de3"
      },
      "execution_count": null,
      "outputs": [
        {
          "output_type": "stream",
          "name": "stdout",
          "text": [
            "          x           \n",
            "         xxx          \n",
            "        xxxxx         \n",
            "       xxxxxxx        \n",
            "      xxxxxxxxx       \n",
            "     xxxxxxxxxxx      \n",
            "    xxxxxxxxxxxxx     \n",
            "   xxxxxxxxxxxxxxx    \n",
            "  xxxxxxxxxxxxxxxxx   \n",
            " xxxxxxxxxxxxxxxxxxx  \n",
            "xxxxxxxxxxxxxxxxxxxxx \n"
          ]
        }
      ]
    },
    {
      "cell_type": "code",
      "source": [
        "def pyramid(height):\n",
        "    for i in range(1,height,2):\n",
        "        letter = 'x'\n",
        "        letter *= i\n",
        "        print(letter.center(height))"
      ],
      "metadata": {
        "id": "uiezPKbNHUAv"
      },
      "execution_count": null,
      "outputs": []
    },
    {
      "cell_type": "code",
      "source": [
        "pyramid(23)"
      ],
      "metadata": {
        "colab": {
          "base_uri": "https://localhost:8080/"
        },
        "id": "YqmVHfFIJjff",
        "outputId": "6b8c07ac-089d-4fd4-c5f8-ec37934e2b12"
      },
      "execution_count": null,
      "outputs": [
        {
          "output_type": "stream",
          "name": "stdout",
          "text": [
            "           x           \n",
            "          xxx          \n",
            "         xxxxx         \n",
            "        xxxxxxx        \n",
            "       xxxxxxxxx       \n",
            "      xxxxxxxxxxx      \n",
            "     xxxxxxxxxxxxx     \n",
            "    xxxxxxxxxxxxxxx    \n",
            "   xxxxxxxxxxxxxxxxx   \n",
            "  xxxxxxxxxxxxxxxxxxx  \n",
            " xxxxxxxxxxxxxxxxxxxxx \n"
          ]
        }
      ]
    },
    {
      "cell_type": "code",
      "source": [
        "x, y = 0, 1\n",
        "for i in range(10):\n",
        "    print(x)\n",
        "    x,y = y, x + y"
      ],
      "metadata": {
        "id": "W22jKDSYHXnp",
        "colab": {
          "base_uri": "https://localhost:8080/"
        },
        "outputId": "bb226a20-cb7d-4244-b139-2ab3982cf380"
      },
      "execution_count": null,
      "outputs": [
        {
          "output_type": "stream",
          "name": "stdout",
          "text": [
            "0\n",
            "1\n",
            "1\n",
            "2\n",
            "3\n",
            "5\n",
            "8\n",
            "13\n",
            "21\n",
            "34\n"
          ]
        }
      ]
    },
    {
      "cell_type": "code",
      "source": [
        "def fibonacci(n):\n",
        "    my_list = []\n",
        "    x, y = 0, 1\n",
        "    for i in range(n):\n",
        "        my_list.append(x)\n",
        "        x,y = y, x + y\n",
        "    return my_list"
      ],
      "metadata": {
        "id": "RcbG275Gx_Ux"
      },
      "execution_count": null,
      "outputs": []
    },
    {
      "cell_type": "code",
      "source": [
        "fibonacci(10)"
      ],
      "metadata": {
        "colab": {
          "base_uri": "https://localhost:8080/"
        },
        "id": "gnDY-x7Eyzz6",
        "outputId": "1b3c56c0-0bbd-40ff-d729-f7b8a519b305"
      },
      "execution_count": null,
      "outputs": [
        {
          "output_type": "execute_result",
          "data": {
            "text/plain": [
              "[0, 1, 1, 2, 3, 5, 8, 13, 21, 34]"
            ]
          },
          "metadata": {},
          "execution_count": 7
        }
      ]
    },
    {
      "cell_type": "code",
      "source": [],
      "metadata": {
        "id": "eminINW20J-B"
      },
      "execution_count": null,
      "outputs": []
    }
  ],
  "metadata": {
    "colab": {
      "provenance": [],
      "authorship_tag": "ABX9TyNS5m9/CLz8e6sWo4dboC36",
      "include_colab_link": true
    },
    "kernelspec": {
      "display_name": "Python 3",
      "name": "python3"
    },
    "language_info": {
      "name": "python"
    }
  },
  "nbformat": 4,
  "nbformat_minor": 0
}